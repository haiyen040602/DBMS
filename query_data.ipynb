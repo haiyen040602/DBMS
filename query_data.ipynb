{
 "cells": [
  {
   "cell_type": "code",
   "execution_count": 1,
   "metadata": {},
   "outputs": [],
   "source": [
    "from influxdb_client import InfluxDBClient, WriteOptions, Point\n",
    "from influxdb_client.client.write_api import SYNCHRONOUS\n",
    "\n",
    "bucket = \"dts2\"\n",
    "org =\"VNU\"\n",
    "token =\"r_2--Jn2gGKBObFrY0-80sqmbOHjrBimPCJde2azKYqRRFCBC11oXF_kAWJhPOZ8sereACnHQ1TdY-RBItCXHg==\"\n",
    "url=\"http://localhost:8086\"\n",
    "\n",
    "client = InfluxDBClient(url=url,token=token,org=org, timeout=3000_000)"
   ]
  },
  {
   "cell_type": "code",
   "execution_count": 3,
   "metadata": {},
   "outputs": [
    {
     "name": "stdout",
     "output_type": "stream",
     "text": [
      "[30000000]\n"
     ]
    }
   ],
   "source": [
    "\n",
    "query = 'from(bucket: \"dataset\")' \\\n",
    "        '|> range(start: -24h)' \\\n",
    "        '|> filter(fn: (r) => r._measurement == \"humidity2010\" and r._field == \"location\")' \\\n",
    "        '|> group()' \\\n",
    "        '|> count(column: \"_value\")'\n",
    "result = client.query_api().query(query=query)\n",
    "\n",
    "\n",
    "results = []\n",
    "for table in result:\n",
    "  for record in table.records:\n",
    "    results.append((record.get_value()))\n",
    "\n",
    "print(results)"
   ]
  }
 ],
 "metadata": {
  "kernelspec": {
   "display_name": "Python 3",
   "language": "python",
   "name": "python3"
  },
  "language_info": {
   "codemirror_mode": {
    "name": "ipython",
    "version": 3
   },
   "file_extension": ".py",
   "mimetype": "text/x-python",
   "name": "python",
   "nbconvert_exporter": "python",
   "pygments_lexer": "ipython3",
   "version": "3.10.11"
  },
  "orig_nbformat": 4
 },
 "nbformat": 4,
 "nbformat_minor": 2
}
